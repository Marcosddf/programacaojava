{
 "cells": [
  {
   "cell_type": "markdown",
   "metadata": {},
   "source": [
    "## Herança\n",
    "\n",
    "A herança entre classes em Java é implementada usando a palavra chave **extends**. Cada linguagem de programação orientada a objetos terá uma sintaxe específica para herança. A linguagem Java suporta apenas herança simples, isto é, uma classe só pode herdar de 1 única classe.\n",
    "\n",
    "O código abaixo possui uma classe Aluno que herda de uma classe Pessoa.\n",
    "\n",
    "A classe Aluno herda todos os atributos e métodos de instância da classe Pessoa. No momento da execução, o objeto do tipo Aluno terá atributos e métodos definidos na própria classe e na classe herdada.\n",
    "\n"
   ]
  },
  {
   "cell_type": "code",
   "execution_count": 6,
   "metadata": {},
   "outputs": [
    {
     "name": "stdout",
     "output_type": "stream",
     "text": [
      "Nome e idade do aluno: Alberto 20\n",
      "Nome e idade da pessoa: Marta 18\n"
     ]
    }
   ],
   "source": [
    "import java.time.LocalDate;\n",
    "\n",
    "class Pessoa {\n",
    "    String nome;\n",
    "    int anoNascimento;\n",
    "    int idade;\n",
    "    void calculaIdade (){\n",
    "        idade = LocalDate.now().getYear() - anoNascimento;\n",
    "    }\n",
    "    \n",
    "}\n",
    "class Aluno extends Pessoa {\n",
    "    String matricula;\n",
    "}\n",
    "\n",
    "class Programa {\n",
    "    public static void main(){\n",
    "        Aluno aluno = new Aluno();\n",
    "        aluno.nome = \"Alberto\";\n",
    "        aluno.anoNascimento = 2000;\n",
    "        aluno.calculaIdade();\n",
    "    \n",
    "        Pessoa pessoa = new Pessoa();\n",
    "        pessoa.nome = \"Marta\";\n",
    "        pessoa.anoNascimento = 2002;\n",
    "        pessoa.calculaIdade();\n",
    "        \n",
    "        System.out.println(\"Nome e idade do aluno: \"+aluno.nome+\" \"+aluno.idade);\n",
    "        System.out.println(\"Nome e idade da pessoa: \"+pessoa.nome+\" \"+pessoa.idade);       \n",
    "        \n",
    "    }\n",
    "}\n",
    "\n",
    "\n",
    "Programa.main();"
   ]
  },
  {
   "cell_type": "markdown",
   "metadata": {},
   "source": [
    "## Profundidade da hierarquia de herança\n",
    "\n",
    "Não há limite na profundidada da hierarquia de herança. Uma classe A pode herdar de uma classe B, que herda de uma classe C, e assim sucessivamente. O objeto instanciado irá herdar todos os atributos e métodos de instância de todas suas classes ascendentes, também chamadas de superclasses.\n",
    "\n",
    "O código abaixo ilustra essa característica."
   ]
  },
  {
   "cell_type": "code",
   "execution_count": 9,
   "metadata": {},
   "outputs": [
    {
     "name": "stdout",
     "output_type": "stream",
     "text": [
      "Nome e idade do aluno de graduação: Alberto 20\n",
      "Nome e siape do professor: Lia 88776655\n"
     ]
    }
   ],
   "source": [
    "import java.time.LocalDate;\n",
    "\n",
    "class Pessoa {\n",
    "    String nome;\n",
    "    int anoNascimento;\n",
    "    int idade;\n",
    "    void calculaIdade (){\n",
    "        idade = LocalDate.now().getYear() - anoNascimento;\n",
    "    }\n",
    "    \n",
    "}\n",
    "class Aluno extends Pessoa {\n",
    "    String matricula;\n",
    "}\n",
    "\n",
    "class AlunoGraduacao extends Aluno {\n",
    "    String GRR;\n",
    "}\n",
    "\n",
    "class Professor extends Pessoa {\n",
    "    String siape;\n",
    "}\n",
    "\n",
    "class Programa {\n",
    "    public static void main(){\n",
    "        AlunoGraduacao ag = new AlunoGraduacao();\n",
    "        ag.nome = \"Alberto\";\n",
    "        ag.anoNascimento = 2000;\n",
    "        ag.calculaIdade();\n",
    "    \n",
    "        Professor professor = new Professor();\n",
    "        professor.nome = \"Lia\";\n",
    "        professor.siape = \"88776655\";\n",
    "        \n",
    "        \n",
    "        System.out.println(\"Nome e idade do aluno de graduação: \"+ag.nome+\" \"+ag.idade);\n",
    "        System.out.println(\"Nome e siape do professor: \"+professor.nome+\" \"+professor.siape);       \n",
    "        \n",
    "    }\n",
    "}\n",
    "\n",
    "\n",
    "Programa.main();"
   ]
  },
  {
   "cell_type": "markdown",
   "metadata": {},
   "source": [
    "## Herança da classe Object\n",
    "\n",
    "Em Java, todas as classes herdam automaticamente da [https://docs.oracle.com/en/java/javase/13/docs/api/java.base/java/lang/Object.html](classe Object). Todas as classes criadas possuem os 11 métodos da classe Object. \n",
    "\n",
    "Um método bastante usado da classe *Object* é o método *equals*: [https://docs.oracle.com/en/java/javase/13/docs/api/java.base/java/lang/Object.html#equals(java.lang.Object)](public boolean equals (Object obj)). De acordo com sua especificação, este permite a comparação de objetos por referência.\n",
    "\n",
    "O código abaixo ilustra esta característica. A comparação realizada ignora os valores dos atributos, pois é uma comparação por referência."
   ]
  },
  {
   "cell_type": "code",
   "execution_count": 11,
   "metadata": {},
   "outputs": [
    {
     "name": "stdout",
     "output_type": "stream",
     "text": [
      "p1 aponta para o mesmo objeto que p2? false\n",
      "p1 aponta para o mesmo objeto que p3? true\n"
     ]
    }
   ],
   "source": [
    "\n",
    "class Pessoa {\n",
    "    String nome;\n",
    "}\n",
    "\n",
    "class Programa {\n",
    "    public static void main(){\n",
    "        \n",
    "        Pessoa p1 = new Pessoa(), p2 = new Pessoa(), p3 = p1;\n",
    "        \n",
    "        p1.nome = \"Rui\";\n",
    "        p2.nome = \"Rui\";\n",
    "        p3.nome = \"Rui\";\n",
    "        \n",
    "        System.out.println(\"p1 aponta para o mesmo objeto que p2? \"+p1.equals(p2));\n",
    "        \n",
    "        System.out.println(\"p1 aponta para o mesmo objeto que p3? \"+p1.equals(p3));\n",
    "        \n",
    "    }\n",
    "}\n",
    "\n",
    "Programa.main();"
   ]
  },
  {
   "cell_type": "code",
   "execution_count": null,
   "metadata": {},
   "outputs": [],
   "source": []
  }
 ],
 "metadata": {
  "kernelspec": {
   "display_name": "Java",
   "language": "java",
   "name": "java"
  },
  "language_info": {
   "codemirror_mode": "java",
   "file_extension": ".jshell",
   "mimetype": "text/x-java-source",
   "name": "Java",
   "pygments_lexer": "java",
   "version": "11.0.3+7"
  }
 },
 "nbformat": 4,
 "nbformat_minor": 2
}
