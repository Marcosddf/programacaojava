{
 "cells": [
  {
   "cell_type": "markdown",
   "metadata": {},
   "source": [
    "## Interfaces\n",
    "\n",
    "Uma interface é um tipo abstrato que é usado para especificar comportamento das classes, agindo como um protocolo. \n",
    "\n",
    "As interfaces podem declarar apenas assinaturas de métodos que serão implementados.\n",
    "\n",
    "Uma classe **implementa** uma ou mais interfaces. Caso uma classe implemente uma interface, todos os métodos declarados na interface deverão ser implementados pela classe.\n",
    "\n",
    "Abaixo o exemplo da [https://github.com/Marcosddf/programacaojava/blob/master/Calculadora.ipynb](calculadora polimórfica) desenvolvido com interfaces. \n",
    "\n",
    "Neste exemplo, a classe *Soma* também implementa a interface *imprime*, então esta deve obrigatoriamente implementar este método. \n",
    "\n",
    "Na última linha da execução, há uma chamada sobre a variavel *soma*, do tipo *IOperacao*, porém com um *cast* para *IImprime*. Isto só é possível pois o objeto instanciado é do tipo Soma, que implementa as 2 interfaces.\n",
    "\n"
   ]
  },
  {
   "cell_type": "code",
   "execution_count": 8,
   "metadata": {},
   "outputs": [
    {
     "name": "stdout",
     "output_type": "stream",
     "text": [
      "5\n",
      "-1\n",
      "impressão do valor calculado previamente: 5\n"
     ]
    }
   ],
   "source": [
    "interface IOperacao {\n",
    "   public int executa (int a, int b);\n",
    "}\n",
    "\n",
    "interface IImprime {\n",
    "    void imprime();\n",
    "}\n",
    "\n",
    "class Soma implements IOperacao, IImprime {\n",
    "    int valor;\n",
    "    public int executa (int a, int b){\n",
    "        valor = a + b;\n",
    "        return valor;\n",
    "    }\n",
    "    public void imprime (){\n",
    "        System.out.println(\"impressão do valor calculado previamente: \"+valor);\n",
    "    }\n",
    "}\n",
    "\n",
    "class Subtracao implements IOperacao {\n",
    "    public int executa (int a, int b){\n",
    "        return a - b;\n",
    "    }    \n",
    "}\n",
    "\n",
    "\n",
    "class Calculadora {\n",
    "    int calcula (IOperacao opt, int a, int b){\n",
    "        return opt.executa(a,b);\n",
    "    }\n",
    "}\n",
    "\n",
    "class Programa {\n",
    "    public static void main (){\n",
    "        Calculadora calc = new Calculadora ();\n",
    "        \n",
    "        IOperacao soma = new Soma();\n",
    "        IOperacao subtracao = new Subtracao();\n",
    "        \n",
    "        System.out.println( calc.calcula (soma,2,3) );\n",
    "        \n",
    "        System.out.println( calc.calcula (subtracao,2,3) );\n",
    "        \n",
    "        ((IImprime)soma).imprime();        \n",
    "    \n",
    "    \n",
    "    }\n",
    "}\n",
    "\n",
    "Programa.main();"
   ]
  },
  {
   "cell_type": "code",
   "execution_count": null,
   "metadata": {},
   "outputs": [],
   "source": []
  }
 ],
 "metadata": {
  "kernelspec": {
   "display_name": "Java",
   "language": "java",
   "name": "java"
  },
  "language_info": {
   "codemirror_mode": "java",
   "file_extension": ".jshell",
   "mimetype": "text/x-java-source",
   "name": "Java",
   "pygments_lexer": "java",
   "version": "11.0.3+7"
  }
 },
 "nbformat": 4,
 "nbformat_minor": 2
}
