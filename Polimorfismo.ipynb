{
 "cells": [
  {
   "cell_type": "markdown",
   "metadata": {},
   "source": [
    "## Polimorfismo\n",
    "\n",
    "Polimorfismo é a capacidade de um operador executar a ação apropriada dependendo do tipo do operando. Uma classificação comum de tipos de polimorfismo é:\n",
    "- universal\n",
    "    - sobrescrita\n",
    "    - parametrização\n",
    "- ad-hoc\n",
    "    - sobrecarga\n",
    "    - coersão de tipo (casting)\n",
    "    \n",
    "Cada linguagem orientada a objeto pode suportar diferentes tipos. O polimorfismo pode ser estático (em tempo de compilação) ou dinâmico (em tempo de execução). Os códigos abaixo apresentam exemplos de **sobrescrita** e **sobrecarga** dinâmicos. Em outras palavras, o método a ser executado será escolhido (binding) em tempo de execução, de acordo com o objeto corrente.\n"
   ]
  },
  {
   "cell_type": "markdown",
   "metadata": {},
   "source": [
    "### Sobrescrita\n",
    "Outros termos: sobreposição, redefinição, *override*\n",
    "\n",
    "Um método com a mesma assinatura é redefinido em uma subclasse.\n",
    "\n",
    "A classe *Pessoa* possui o método *imprime*. A subclasse class *Aluno* redefine o método *imprime*, com uma implementação própria. No momento da execução, o interpretador verifica que se o objeto é uma instância de *Aluno* e chama o método apropriado."
   ]
  },
  {
   "cell_type": "code",
   "execution_count": null,
   "metadata": {},
   "outputs": [],
   "source": [
    "class Pessoa {\n",
    "    String nome;\n",
    "    void imprime() {\n",
    "        System.out.println(\"Nome: \"+nome);\n",
    "    }\n",
    "}\n",
    "\n",
    "class Aluno extends Pessoa {\n",
    "    String matricula;\n",
    "    void imprime(){\n",
    "        super.imprime();\n",
    "        System.out.println(\"Matricula: \"+matricula);    \n",
    "    }    \n",
    "}\n",
    "\n",
    "class Programa {\n",
    "    public static void main(){\n",
    "        Pessoa pessoa = new Pessoa ();\n",
    "        pessoa.nome = \"Rita\";\n",
    "        pessoa.imprime();\n",
    "        \n",
    "        Aluno aluno = new Aluno();\n",
    "        aluno.nome = \"Bruna\";\n",
    "        aluno.matricula = \"20201415\";\n",
    "        aluno.imprime();        \n",
    "    }\n",
    "}\n",
    "\n",
    "Programa.main();\n",
    "\n"
   ]
  },
  {
   "cell_type": "markdown",
   "metadata": {},
   "source": [
    "#### Sobrescrita e tipo das variáveis\n",
    "\n",
    "Uma variável pode ser declarada com o tipo da superclasse, e receber tanto instâncias da superclasse (*Pessoa*) como da subclasse (*Aluno*). O contrário não é válido, pois um *Aluno* é uma *Pessoa*, mas uma *Pessoa* não é um *Aluno*.\n",
    "\n",
    "Na chamada do método *imprime*, é o tipo do objeto que define a chamada do método, não da variável declarada. Isto é, a primeira chamada é sobre o *imprime* em *Pessoa*, e a segunda é sobre o *imprime* em *Aluno*.\n",
    "\n",
    "Foi necessário fazer um *cast* para acessar o atributo *matricula*, pois a variável do tipo *Pessoa* \"não sabe\" em tempo de compilação, que receberá uma instância de *Aluno*. *Cast*s errados podem causar erros na execução."
   ]
  },
  {
   "cell_type": "code",
   "execution_count": null,
   "metadata": {},
   "outputs": [],
   "source": [
    "class Pessoa {\n",
    "    String nome;\n",
    "    void imprime() {\n",
    "        System.out.println(\"Nome: \"+nome);\n",
    "    }\n",
    "}\n",
    "\n",
    "class Aluno extends Pessoa {\n",
    "    String matricula;\n",
    "    void imprime(){\n",
    "        super.imprime();\n",
    "        System.out.println(\"Matricula: \"+matricula);    \n",
    "    }    \n",
    "}\n",
    "\n",
    "class Programa {\n",
    "    public static void main(){\n",
    "        Pessoa pessoa = new Pessoa ();\n",
    "        pessoa.nome = \"Rita\";\n",
    "        pessoa.imprime();\n",
    "        \n",
    "        Pessoa aluno = new Aluno();\n",
    "        aluno.nome = \"Bruna\";\n",
    "        ((Aluno)aluno).matricula = \"20201415\";\n",
    "        aluno.imprime();        \n",
    "    }\n",
    "}\n",
    "\n",
    "Programa.main();"
   ]
  },
  {
   "cell_type": "markdown",
   "metadata": {},
   "source": [
    "## Sobrecarga\n",
    "Outros termos: overload\n",
    "\n",
    "Redefinição baseada em tipo. Os métodos possuem o mesmo nome, porém tipo de retorno ou número de parâmetros diferentes. É a assinatura do método que define qual será executado.\n",
    "\n",
    "No código abaixo, o método *imprime* no aluno está sobrecarregado, pois há duas implementações, cada uma com um número de parâmetros diferente. "
   ]
  },
  {
   "cell_type": "code",
   "execution_count": 3,
   "metadata": {},
   "outputs": [
    {
     "name": "stdout",
     "output_type": "stream",
     "text": [
      "Nome: Bruna\n",
      "Matricula: 20201415\n",
      "Nome: Bruna\n",
      "Matricula: 20201415\n",
      "Matrícula do aluno: 20201415\n"
     ]
    }
   ],
   "source": [
    "class Pessoa {\n",
    "    String nome;\n",
    "    void imprime() {\n",
    "        System.out.println(\"Nome: \"+nome);\n",
    "    }\n",
    "}\n",
    "\n",
    "class Aluno extends Pessoa {\n",
    "    String matricula;\n",
    "    void imprime(){\n",
    "        super.imprime();\n",
    "        System.out.println(\"Matricula: \"+matricula);    \n",
    "    }    \n",
    "    void imprime(String descricao){\n",
    "        imprime();\n",
    "        System.out.println(descricao + matricula);    \n",
    "    }        \n",
    "}\n",
    "\n",
    "class Programa {\n",
    "    public static void main(){        \n",
    "        Aluno aluno = new Aluno();\n",
    "        aluno.nome = \"Bruna\";\n",
    "        aluno.matricula = \"20201415\";\n",
    "        aluno.imprime();        \n",
    "        aluno.imprime(\"Matrícula do aluno: \");\n",
    "    }\n",
    "}\n",
    "\n",
    "Programa.main();"
   ]
  },
  {
   "cell_type": "code",
   "execution_count": null,
   "metadata": {},
   "outputs": [],
   "source": []
  }
 ],
 "metadata": {
  "kernelspec": {
   "display_name": "Java",
   "language": "java",
   "name": "java"
  },
  "language_info": {
   "codemirror_mode": "java",
   "file_extension": ".jshell",
   "mimetype": "text/x-java-source",
   "name": "Java",
   "pygments_lexer": "java",
   "version": "11.0.3+7"
  }
 },
 "nbformat": 4,
 "nbformat_minor": 2
}
