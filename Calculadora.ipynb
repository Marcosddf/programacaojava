{
 "cells": [
  {
   "cell_type": "markdown",
   "metadata": {},
   "source": [
    "## Calculadora polimórfica\n",
    "\n",
    "O exemplo da calculadora polimórfica é frequentemente utilizado para ilustrar polimorfismo. O uso do polimorfismo permite implementar uma calculadora genérica, e a operação a ser executada é passada como parâmetro em tempo de execução.\n"
   ]
  },
  {
   "cell_type": "code",
   "execution_count": 4,
   "metadata": {},
   "outputs": [
    {
     "name": "stdout",
     "output_type": "stream",
     "text": [
      "5\n",
      "-1\n"
     ]
    }
   ],
   "source": [
    "abstract class Operacao {\n",
    "    abstract int executa (int a, int b);\n",
    "}\n",
    "\n",
    "class Soma extends Operacao {\n",
    "    int executa (int a, int b){\n",
    "        return a + b;\n",
    "    }\n",
    "}\n",
    "\n",
    "class Subtracao extends Operacao {\n",
    "    int executa (int a, int b){\n",
    "        return a - b;\n",
    "    }    \n",
    "}\n",
    "\n",
    "\n",
    "class Calculadora {\n",
    "    int calcula (Operacao opt, int a, int b){\n",
    "        return opt.executa(a,b);\n",
    "    }\n",
    "}\n",
    "\n",
    "class Programa {\n",
    "    public static void main (){\n",
    "        Calculadora calc = new Calculadora ();\n",
    "        \n",
    "        System.out.println( calc.calcula (new Soma(),2,3) );\n",
    "        \n",
    "        System.out.println( calc.calcula (new Subtracao(),2,3) );\n",
    "    \n",
    "    }\n",
    "}\n",
    "\n",
    "Programa.main();\n"
   ]
  },
  {
   "cell_type": "code",
   "execution_count": null,
   "metadata": {},
   "outputs": [],
   "source": []
  }
 ],
 "metadata": {
  "kernelspec": {
   "display_name": "Java",
   "language": "java",
   "name": "java"
  },
  "language_info": {
   "codemirror_mode": "java",
   "file_extension": ".jshell",
   "mimetype": "text/x-java-source",
   "name": "Java",
   "pygments_lexer": "java",
   "version": "11.0.3+7"
  }
 },
 "nbformat": 4,
 "nbformat_minor": 2
}
