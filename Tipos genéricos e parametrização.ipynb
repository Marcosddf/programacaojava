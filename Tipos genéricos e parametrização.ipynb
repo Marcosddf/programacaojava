{
 "cells": [
  {
   "cell_type": "markdown",
   "metadata": {},
   "source": [
    "## Tipos genéricos e parametrização\n",
    "\n",
    "Tipos genéricos são estruturas de dados que podem ser utilizados com qualquer outro tipo de dado.\n",
    "\n",
    "Um exemplo de tipo genérico em Java é a classe *ArrayList*. Esta classe pode receber qualquer tipo de objeto. \n",
    "\n",
    "Porém, isto causa dificuldades na implementação, pois é necessário o uso de muitos *casts*, que poderão ser especificados erroneamente.\n",
    "\n",
    "O código abaixo usa o tipo genérico ArrayList, sem parametrização. É necessário utilizar casts ao adicionar os alunos na lista, e o *for* tem um tipo objeto genérico."
   ]
  },
  {
   "cell_type": "code",
   "execution_count": 2,
   "metadata": {},
   "outputs": [
    {
     "name": "stdout",
     "output_type": "stream",
     "text": [
      "22.0\n"
     ]
    }
   ],
   "source": [
    "import java.time.LocalDate;\n",
    "\n",
    "class Aluno {\n",
    "    String nome;\n",
    "    int anoNascimento;\n",
    "}\n",
    "\n",
    "class Turma {\n",
    "    String nome;\n",
    "    ArrayList alunos;\n",
    "}\n",
    "\n",
    "class Programa {\n",
    "    public static void main (){\n",
    "        Aluno aluno1 = new Aluno();        \n",
    "        aluno1.nome = \"Maria\";\n",
    "        aluno1.anoNascimento = 2001;\n",
    "        \n",
    "        Aluno aluno2 = new Aluno();\n",
    "        aluno2.nome = \"José\";\n",
    "        aluno2.anoNascimento = 1995;\n",
    "        \n",
    "        Turma turma = new Turma ();\n",
    "        turma.nome = \"Paradigmas de programação\";\n",
    "        turma.alunos = new ArrayList();\n",
    "        turma.alunos.add((Aluno)aluno1);\n",
    "        turma.alunos.add((Aluno)aluno2);\n",
    "        \n",
    "        double total = 0;\n",
    "        for (Object a : turma.alunos) {\n",
    "            total = total + LocalDate.now().getYear() - ((Aluno)a).anoNascimento;\n",
    "        }        \n",
    "        \n",
    "        System.out.println(total / turma.alunos.size());\n",
    "        \n",
    "    }\n",
    "}\n",
    "\n",
    "Programa.main();"
   ]
  },
  {
   "cell_type": "markdown",
   "metadata": {},
   "source": [
    "O código abaixo utiliza parametrização de tipo: o *ArrayList* está parametrizado e poderá receber apenas objetos do tipo *Aluno*.\n",
    "\n",
    "Todos os *casts* podem ser retirados. A verificação é feita em tempo de compilação. No momento da execução, a informação de parametrização é descartada, usando apagamento de tipo (type erasure).\n"
   ]
  },
  {
   "cell_type": "code",
   "execution_count": 4,
   "metadata": {},
   "outputs": [
    {
     "name": "stdout",
     "output_type": "stream",
     "text": [
      "22.0\n"
     ]
    }
   ],
   "source": [
    "import java.time.LocalDate;\n",
    "\n",
    "class Aluno {\n",
    "    String nome;\n",
    "    int anoNascimento;\n",
    "}\n",
    "\n",
    "class Turma {\n",
    "    String nome;\n",
    "    ArrayList<Aluno> alunos;\n",
    "}\n",
    "\n",
    "class Programa {\n",
    "    public static void main (){\n",
    "        Aluno aluno1 = new Aluno();        \n",
    "        aluno1.nome = \"Maria\";\n",
    "        aluno1.anoNascimento = 2001;\n",
    "        \n",
    "        Aluno aluno2 = new Aluno();\n",
    "        aluno2.nome = \"José\";\n",
    "        aluno2.anoNascimento = 1995;\n",
    "        \n",
    "        Turma turma = new Turma ();\n",
    "        turma.nome = \"Paradigmas de programação\";\n",
    "        turma.alunos = new ArrayList<Aluno>();\n",
    "        turma.alunos.add(aluno1);\n",
    "        turma.alunos.add(aluno2);\n",
    "        \n",
    "        double total = 0;\n",
    "        for (Aluno a : turma.alunos) {\n",
    "            total = total + LocalDate.now().getYear() - a.anoNascimento;\n",
    "        }         \n",
    "        \n",
    "        System.out.println(total / turma.alunos.size());\n",
    "        \n",
    "    }\n",
    "}\n",
    "\n",
    "Programa.main();"
   ]
  },
  {
   "cell_type": "markdown",
   "metadata": {},
   "source": [
    "O exemplo abaixo usa o tipo genérico *HashMap<Key,Value>*, que implementa um hash em Java. É parametrizado por 2 tipos.\n",
    "\n",
    "A instância de HashMap foi parametrizada com os tipos *String,Aluno*. Com isto, a chave do hash será sempre uma String, e o valor sempre um objeto do tipo *Aluno*."
   ]
  },
  {
   "cell_type": "code",
   "execution_count": 10,
   "metadata": {},
   "outputs": [
    {
     "name": "stdout",
     "output_type": "stream",
     "text": [
      "Claudia\n",
      "Rafael\n"
     ]
    }
   ],
   "source": [
    "\n",
    "class Aluno {\n",
    "    String id;\n",
    "    String nome;\n",
    "}\n",
    "\n",
    "\n",
    "class Programa {\n",
    "    public static void main() {\n",
    "        Aluno aluno1 = new Aluno();\n",
    "        aluno1.nome = \"Claudia\";    \n",
    "        aluno1.id = \"1223344\";\n",
    "        \n",
    "        Aluno aluno2 = new Aluno();\n",
    "        aluno2.nome = \"Rafael\";    \n",
    "        aluno2.id = \"4455661\";\n",
    "        \n",
    "\n",
    "        HashMap<String,Aluno> hashAlunos = new HashMap<String,Aluno> ();\n",
    "        \n",
    "        hashAlunos.put(aluno1.id, aluno1);\n",
    "        hashAlunos.put(aluno2.id, aluno2);\n",
    "        \n",
    "        \n",
    "        System.out.println(hashAlunos.get(aluno1.id).nome);\n",
    "        System.out.println(hashAlunos.get(aluno2.id).nome);\n",
    "        \n",
    "        \n",
    "    }    \n",
    "}\n",
    "\n",
    "Programa.main();"
   ]
  },
  {
   "cell_type": "markdown",
   "metadata": {},
   "source": [
    "## Definição de tipos genéricos\n",
    "\n",
    "Abaixo um exemplo de como definir seu próprio tipo genérico. A turma pode ser parametrizada com algum tipo específico. Neste caso, foi parametrizada com o tipo *Aluno*. Isto obriga que todos os elementos da lista sejam no tipo *Aluno*. Não é possível incluir uma *Pessoa*, ou nenhuma outra classe que herde de Pessoa."
   ]
  },
  {
   "cell_type": "code",
   "execution_count": 26,
   "metadata": {},
   "outputs": [
    {
     "name": "stdout",
     "output_type": "stream",
     "text": [
      "O aluno na 1a posicao do ArrayList é: Fernando\n"
     ]
    }
   ],
   "source": [
    "abstract class Pessoa {\n",
    "    String nome;\n",
    "}\n",
    "    \n",
    "class Aluno extends Pessoa {\n",
    "    String matricula;\n",
    "}\n",
    "class Turma<A>{\n",
    "    String ementa;\n",
    "    ArrayList<A> alunos = new ArrayList<A>();\n",
    "    \n",
    "    void addAluno(A aluno) {\n",
    "        alunos.add(aluno);\n",
    "    }\n",
    "    A getAlunoAt(int posicao) {\n",
    "        return alunos.get(posicao);\n",
    "    }\n",
    "}    \n",
    "\n",
    "class Professor {\n",
    "}\n",
    "\n",
    "class Programa {\n",
    "    public static void main() {\n",
    "        Turma<Aluno> turma = new Turma<Aluno>();\n",
    "        Aluno a = new Aluno();\n",
    "        a.nome = \"Fernando\";\n",
    "        a.matricula = \"99887766\";\n",
    "        turma.addAluno(a);\n",
    "        System.out.println(\"O aluno na 1a posicao do ArrayList é: \"+turma.getAlunoAt(0).nome);    \n",
    "    }\n",
    "}\n",
    "\n",
    "Programa.main();\n",
    "\n"
   ]
  },
  {
   "cell_type": "code",
   "execution_count": null,
   "metadata": {},
   "outputs": [],
   "source": []
  }
 ],
 "metadata": {
  "kernelspec": {
   "display_name": "Java",
   "language": "java",
   "name": "java"
  },
  "language_info": {
   "codemirror_mode": "java",
   "file_extension": ".jshell",
   "mimetype": "text/x-java-source",
   "name": "Java",
   "pygments_lexer": "java",
   "version": "11.0.3+7"
  }
 },
 "nbformat": 4,
 "nbformat_minor": 2
}
