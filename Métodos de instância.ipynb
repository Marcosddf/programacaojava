{
 "cells": [
  {
   "cell_type": "markdown",
   "metadata": {},
   "source": [
    "## Troca de mensagens e métodos de instância\n",
    "\n",
    "O fluxo de execução de um programa orientado a objetos (OO) é determinado pela ordem da troca de mensagens entre os objetos instanciados. A cada troca de mensagem, há sempre um objeto **emissor** e um objeto **receptor**. \n",
    "\n",
    "A implementação de troca de mensagens é feita pela especificação de **MÉTODOS**.\n",
    "\n",
    "O código abaixo instancia 2 alunos, 1 turma e 1 lista de alunos na turma, pela chamada dos construtores dos objetos.\n",
    "\n",
    "Em seguida, é chamado o método *calculaMedia*. Este é chamado pelo método *main*, que é um método estático. Este aspecto será tratado em outro Notebook.\n",
    "\n",
    "O método *calculaMedia* é executado no contexto de uma instância específica de 1 objeto turma. Este é um **método de instância**. O método tem acesso a todos os atributos de instância do objeto corrente. Isto por ser visto ao acessar o atributo *alunos*.\n",
    "\n",
    "Na chamada do método *a.getIdade*, o objeto corrente (instância de Turma) é o objeto **emissor**. Cada objeto aluno será um objeto **receptor**. Esta troca de mensagens pode ser descrita de 2 formas:\n",
    "- o objeto turma emitiu a mensagem getIdade para o objeto aluno;\n",
    "- o objeto turma chamou o método getIdade do aluno.\n",
    "\n",
    "Embora a primeira forma reflita mais precisamente o mecanismo de troca de mensagens, é mais comum a utilização da segunda forma.\n",
    "\n",
    "O método *não pode* acessar diretamente os atributos de algum aluno, é necessário recuperar a instância dos alunos necessários. \n",
    "\n",
    "## Especificação de métodos de instância\n",
    "\n",
    "Os métodos de instância tem acesso aos demais métodos de instância da mesma classe. Por isso, um objeto pode enviar uma mensagem para si mesmo. Isto é visto na implementação do método *imprimeMedia*, que chama o método *calculaMedia* do mesmo objeto turma.\n",
    "\n",
    "Uma classe pode ter vários métodos de instância. \n",
    "\n",
    "Métodos podem ter 1 tipo de retorno e múltiplos parâmetros.\n",
    "\n",
    "Convenções de codificação :\n",
    "- o nome do método deve começar com letra minúscula;\n",
    "- se for palavra composta, a segunda começa com letra maiúscula;\n",
    "- usar verbos para indicar a ação realizada pelo método;\n",
    "\n",
    "Um método bem especificado deve realizar uma ação simples e clara. Métodos com nomes extensos podem indicar a necessidade de refatoração no código. Exemplo de má implementação: incluir o cálculo e a impressão da média em um único meodo *imprimeMedia*.\n"
   ]
  },
  {
   "cell_type": "code",
   "execution_count": 1,
   "metadata": {},
   "outputs": [
    {
     "name": "stdout",
     "output_type": "stream",
     "text": [
      "22\n"
     ]
    }
   ],
   "source": [
    "import java.time.LocalDate;\n",
    "\n",
    "class Aluno {\n",
    "    String nome;\n",
    "    int anoNascimento;\n",
    "    int getIdade(){\n",
    "        return LocalDate.now().getYear() - anoNascimento;\n",
    "    }\n",
    "}\n",
    "\n",
    "class Turma {\n",
    "    String nome;\n",
    "    ArrayList<Aluno> alunos;\n",
    "    \n",
    "    int calculaIdadeMedia(){\n",
    "        int total = 0;\n",
    "        for (Aluno a : alunos) {\n",
    "            total = total + a.getIdade();\n",
    "        }        \n",
    "        return total / alunos.size();\n",
    "    }\n",
    "    \n",
    "    void imprimeMedia(){\n",
    "        System.out.println(calculaMedia());\n",
    "    }\n",
    "    \n",
    "}\n",
    "\n",
    "class Programa {\n",
    "    public static void main (){\n",
    "        Aluno aluno1 = new Aluno();        \n",
    "        aluno1.nome = \"Maria\";\n",
    "        aluno1.anoNascimento = 2001;\n",
    "        \n",
    "        Aluno aluno2 = new Aluno();\n",
    "        aluno2.nome = \"José\";\n",
    "        aluno2.anoNascimento = 1995;\n",
    "        \n",
    "        Turma turma = new Turma ();\n",
    "        turma.nome = \"Paradigmas de programação\";\n",
    "        turma.alunos = new ArrayList();\n",
    "        turma.alunos.add(aluno1);\n",
    "        turma.alunos.add(aluno2);        \n",
    "        \n",
    "        turma.calculaIdadeMedia();\n",
    "        \n",
    "    }\n",
    "}\n",
    "\n",
    "Programa.main();"
   ]
  },
  {
   "cell_type": "code",
   "execution_count": null,
   "metadata": {},
   "outputs": [],
   "source": []
  }
 ],
 "metadata": {
  "kernelspec": {
   "display_name": "Java",
   "language": "java",
   "name": "java"
  },
  "language_info": {
   "codemirror_mode": "java",
   "file_extension": ".jshell",
   "mimetype": "text/x-java-source",
   "name": "Java",
   "pygments_lexer": "java",
   "version": "11.0.3+7"
  }
 },
 "nbformat": 4,
 "nbformat_minor": 2
}
