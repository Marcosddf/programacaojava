{
 "cells": [
  {
   "cell_type": "markdown",
   "metadata": {},
   "source": [
    "## Classes abstratas\n",
    "\n",
    "Classes abstratas são classes que não podem ser instanciadas. Estas são frequentemente utilizadas quando há um conjunto de funcionalidades comuns, mas que apenas as subclasses deveriam ser instanciadas.\n",
    "\n",
    "No exemplo abaixo, a classe *Pessoa* não pode ser instanciada, apenas a classe *Aluno*.\n",
    "\n",
    "Mas a variável *pessoa* pode receber instâncias de alunos, e chamar o método *imprime*. O método também é abstrato, porém a ligação é feita apenas em tempo de execução.\n"
   ]
  },
  {
   "cell_type": "code",
   "execution_count": 9,
   "metadata": {},
   "outputs": [
    {
     "name": "stdout",
     "output_type": "stream",
     "text": [
      "Matricula: 20201415\n",
      "Matricula: 20201415\n",
      "Matrícula do aluno: 20201415\n",
      "Matricula: 20201415\n"
     ]
    }
   ],
   "source": [
    "abstract class Pessoa {\n",
    "    String nome;\n",
    "    abstract void imprime();\n",
    "}\n",
    "\n",
    "class Aluno extends Pessoa {\n",
    "    String matricula;\n",
    "    void imprime(){\n",
    "        System.out.println(\"Matricula: \"+matricula);    \n",
    "    }    \n",
    "    void imprime(String descricao){\n",
    "        imprime();\n",
    "        System.out.println(descricao + matricula);    \n",
    "    }        \n",
    "}\n",
    "\n",
    "class Programa {\n",
    "    public static void main(){        \n",
    "        Aluno aluno = new Aluno();\n",
    "        aluno.nome = \"Bruna\";\n",
    "        aluno.matricula = \"20201415\";\n",
    "        aluno.imprime();        \n",
    "        aluno.imprime(\"Matrícula do aluno: \");\n",
    "        \n",
    "        Pessoa p = aluno;\n",
    "        p.imprime();\n",
    "    }\n",
    "}\n",
    "\n",
    "Programa.main();"
   ]
  }
 ],
 "metadata": {
  "kernelspec": {
   "display_name": "Java",
   "language": "java",
   "name": "java"
  },
  "language_info": {
   "codemirror_mode": "java",
   "file_extension": ".jshell",
   "mimetype": "text/x-java-source",
   "name": "Java",
   "pygments_lexer": "java",
   "version": "11.0.3+7"
  }
 },
 "nbformat": 4,
 "nbformat_minor": 2
}
