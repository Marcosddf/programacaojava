{
 "cells": [
  {
   "cell_type": "markdown",
   "metadata": {},
   "source": [
    "# Atributos e métodos de classe\n",
    "\n",
    "Atributos e métodos de classe são definidos com o modificador **static**. Por isso, também são chamados de métodos e atributos **estáticos**. Só podem ser chamados pela classe, e não pelas instâncias. \n",
    "\n",
    "Algumas características:\n",
    "\n",
    "- um método estático pode acessar um atributo estático da mesma classe;\n",
    "- um método de instância pode acessar um método ou atributo estático, mas um método estático não consegue acessar um método ou atributo de instância diretamente, pois não há um objeto específico associado.\n",
    "\n",
    "No exemplo abaixo, a classe Log possui um atributo estático com o tipo do log que será utilizado, caso estiver ativo. O método estático é chamado para mostrar a mensagem de log específica. Não há um objeto do tipo *Log* instanciado. O método e o atributo são referentes à classe.\n"
   ]
  },
  {
   "cell_type": "code",
   "execution_count": 5,
   "metadata": {},
   "outputs": [
    {
     "name": "stdout",
     "output_type": "stream",
     "text": [
      "warning: testando um log usando método estático\n"
     ]
    }
   ],
   "source": [
    "enum TipoLog { none, warning }\n",
    "\n",
    "class Log {\n",
    "    public static TipoLog tipo;\n",
    "    public static void log (String mensagem) {\n",
    "        if (tipo != TipoLog.none)\n",
    "            System.out.println(tipo + \": \" +mensagem);\n",
    "    }\n",
    "\n",
    "}\n",
    "\n",
    "class Programa {\n",
    "    public static void main (){\n",
    "        Log.tipo = TipoLog.warning;\n",
    "        Log.log(\"testando um log usando método estático\");\n",
    "        \n",
    "        Log.tipo = TipoLog.none;\n",
    "        Log.log(\"neste caso nenhuma mensagem será exibida, pois o log foi desativado\");\n",
    "        \n",
    "    }\n",
    "}\n",
    "\n",
    "Programa.main();"
   ]
  },
  {
   "cell_type": "markdown",
   "metadata": {},
   "source": [
    "### Utilizações frequentes\n",
    "\n",
    "Métodos utilitários\n",
    "- métodos do pacote com funções matemáticas. Não é necessário criar instâncias para realizar cálculos matemáticos.\n",
    "\n",
    "Impressão no console:\n",
    "- o atributo *out* é um atributo estático da classe *System*. Este atributo possui um objeto que representa a saída padrão, e este objeto possui o método  *println*.\n"
   ]
  },
  {
   "cell_type": "code",
   "execution_count": 8,
   "metadata": {},
   "outputs": [
    {
     "name": "stdout",
     "output_type": "stream",
     "text": [
      "0.12839470213014048\n",
      "256.0\n"
     ]
    }
   ],
   "source": [
    "\n",
    "System.out.println(Math.random ());\n",
    "\n",
    "System.out.println(Math.pow (2, 8));\n"
   ]
  },
  {
   "cell_type": "markdown",
   "metadata": {},
   "source": [
    "Construtores são métodos estáticos das classes. Em outras palavras, para instanciar um objeto, é necessário chamar o método estático que possui o mesmo nome da classe. A sintaxe é modificada para o uso da palavra chave *new* para explicitar a instanciação.\n",
    "\n",
    "O método **main** é o ponto de entrada para execução de programas Java. Este é um método estático que deve ser definido nas classes que irão iniciar algum tipo de ação.\n"
   ]
  },
  {
   "cell_type": "code",
   "execution_count": 9,
   "metadata": {},
   "outputs": [
    {
     "name": "stdout",
     "output_type": "stream",
     "text": [
      "testando o construtor\n"
     ]
    }
   ],
   "source": [
    "class Aluno {\n",
    "    String nome;\n",
    "}\n",
    "\n",
    "class Programa {\n",
    "    public static void main() {\n",
    "        Aluno a = new Aluno();\n",
    "        a.nome = \"testando o construtor\";\n",
    "        System.out.println(a.nome);\n",
    "    }\n",
    "}\n",
    "\n",
    "Programa.main();\n"
   ]
  },
  {
   "cell_type": "markdown",
   "metadata": {},
   "source": [
    "### Troca de mensagens\n",
    "\n",
    "Os métodos estáticos não realizam troca de mensagens entre objetos, mas entre:\n",
    "- classes-objetos (ex.: método de instância chamado a partir do *main*;\n",
    "- classes-classes (ex.: método estático do Log ou do pacote matemático chamado no *main*)\n",
    "- objetos-classes (ex.: método do Log chamado a partir de método de instância)\n"
   ]
  }
 ],
 "metadata": {
  "kernelspec": {
   "display_name": "Java",
   "language": "java",
   "name": "java"
  },
  "language_info": {
   "codemirror_mode": "java",
   "file_extension": ".jshell",
   "mimetype": "text/x-java-source",
   "name": "Java",
   "pygments_lexer": "java",
   "version": "11.0.3+7"
  }
 },
 "nbformat": 4,
 "nbformat_minor": 2
}
