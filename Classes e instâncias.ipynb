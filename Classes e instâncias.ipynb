{
 "cells": [
  {
   "cell_type": "markdown",
   "metadata": {},
   "source": [
    "O código abaixo contém elementos básicos da linguagem Java, uma linguagem orientada a objetos.\n",
    "\n",
    "Os *conceitos* de orientação a objetos serão representados utilizando a *sintaxe* específica de cada linguagem orientada a objetos. Cada linguagem poderá representar subconjuntos diferentes destes conceitos.\n",
    "\n",
    "\n",
    "O código abaixo contém uma **classe** com nome Aluno.\n",
    "\n",
    "A classe contém a definição de 1 **atributo**: anoNascimento.\n",
    "\n",
    "O atributo possui 1 **tipo**.\n",
    "\n",
    "O tipo especificado é um tipo primitivo:\n",
    "- exemplos de tipos primitivos: byte, short, int, long, float, double, char ou boolean.\n",
    "\n",
    "A linguagem Java é fortemente tipada. Os atributos possuem um tipo especificado em tempo de compilação. \n",
    "\n",
    "Os nomes das classes e dos atributos devem seguir convenções de codificação:\n",
    "- nomes das classes começam com letra MAIÚSCULA\n",
    "- nomes de atributos começam com letra minúscula\n",
    "- em palavras compostas, a segunda palavra começa com letra MAIÚSCULA\n",
    "- não usar preposições, conjunções, etc.\n"
   ]
  },
  {
   "cell_type": "code",
   "execution_count": 1,
   "metadata": {},
   "outputs": [],
   "source": [
    "class Aluno {\n",
    "      int anoNascimento;\n",
    "}"
   ]
  },
  {
   "cell_type": "markdown",
   "metadata": {},
   "source": [
    "O código abaixo possui 2 classes, Aluno e Disciplina, e cada classe possui vários atributos, primitivos ou complexos. Os atributos podem ser tipados por classes, como *Disciplina*, *String* ou *Integer*.\n",
    "\n",
    "Note que não há vetores ou listas, mas 2 atributos do tipo *Disciplina*. Isto pode ser melhorado.\n",
    "\n",
    "Dados numéricos podem ser tipados por tipos primitivos (ex.: int), ou tipos complexos (ex.: *Integer*).\n"
   ]
  },
  {
   "cell_type": "code",
   "execution_count": null,
   "metadata": {},
   "outputs": [],
   "source": [
    "class Disciplina {\n",
    "     String nome;\n",
    "     Integer cargaHoraria;\n",
    "     double nota;\n",
    "}\n",
    "\n",
    "class Aluno {\n",
    "      String nome;\n",
    "      int anoNascimento;\n",
    "      String curso; \n",
    "      Disciplina disciplina1, disciplina2;\n",
    "}"
   ]
  },
  {
   "cell_type": "markdown",
   "metadata": {},
   "source": [
    "O código abaixo possui uma classe **Programa**, com um método *main*, utilizado para **instanciar** as classes criadas. \n",
    "\n",
    "A instanciação consiste na criação de um **OBJETO** com um tipo determinado. Os atributos são chamados **atributos de instância**, isto é, é necessário um objeto instanciado para acessar os valores dos atributos.\n",
    "\n",
    "A instanciação é feita através da chamada do **construtor**. O construtor é um método com o mesmo nome da classe, chamado através da construção *new*.\n",
    "\n",
    "Será criada uma área na memória com um ponteiro para o objeto e seus atributos.\n",
    "\n",
    "A *variável* com tipo *Aluno* apontará para um *objeto* do tipo Aluno.\n",
    "- o atributo *nome* receberá o valor \"João\". \n",
    "- o atributo *disciplina1* é do tipo *Disciplina*, então este pode receber uma instância de disciplina. Não é necessário criar uma variável, a atribuição pode ser feita diretamente no atributo.\n",
    "\n",
    "Outras considerações:\n",
    "- o tipo *String* é implementado pela classe String, mas não é necessário a chamada do construtor. Esta característica chama-se autoboxing, e é utilizada para simplificar a sintaxe.\n",
    "- para acessar os atributos de um objeto, utiliza-se o operador \".\" (ponto), que consiste em um operador de navegação nos atributos de uma instância, e assim sucessivamente.\n",
    "\n",
    "##Execução \n",
    "\n",
    "O código abaixo pode ser executado e modificado, para testar a criação de novas classes, atributos, e a interação do programa.\n"
   ]
  },
  {
   "cell_type": "code",
   "execution_count": 2,
   "metadata": {},
   "outputs": [
    {
     "name": "stdout",
     "output_type": "stream",
     "text": [
      "nome: João\n"
     ]
    }
   ],
   "source": [
    "class Endereco {\n",
    "     Integer numero;\n",
    "     String rua;\n",
    "}\n",
    "\n",
    "class Disciplina {\n",
    "     String nome;\n",
    "     Integer cargaHoraria;\n",
    "     double nota;\n",
    "}\n",
    "\n",
    "class Aluno {\n",
    "      String nome;\n",
    "      int anoNascimento;\n",
    "      String curso; \n",
    "      Disciplina disciplina1, disciplina2;\n",
    "}\n",
    "\n",
    "// programa\n",
    "\n",
    "public class Programa {\n",
    "    public static void main() {\n",
    "       Aluno aluno = new Aluno();\n",
    "       aluno.nome = \"João\";\n",
    "       aluno.disciplina1 = new Disciplina();\n",
    "       aluno.disciplina1.cargaHoraria = 60;\n",
    "       \n",
    "       System.out.println(\"nome: \" + aluno.nome);\n",
    "    }    \n",
    "}\n",
    "\n",
    "\n",
    "Programa.main();\n",
    "\n"
   ]
  },
  {
   "cell_type": "code",
   "execution_count": null,
   "metadata": {},
   "outputs": [],
   "source": []
  }
 ],
 "metadata": {
  "kernelspec": {
   "display_name": "Java",
   "language": "java",
   "name": "java"
  },
  "language_info": {
   "codemirror_mode": "java",
   "file_extension": ".jshell",
   "mimetype": "text/x-java-source",
   "name": "Java",
   "pygments_lexer": "java",
   "version": "11.0.3+7"
  }
 },
 "nbformat": 4,
 "nbformat_minor": 2
}
