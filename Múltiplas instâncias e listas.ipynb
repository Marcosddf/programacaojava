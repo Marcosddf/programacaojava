{
 "cells": [
  {
   "cell_type": "markdown",
   "metadata": {},
   "source": [
    "## Múltiplas instâncias e manipulação de listas\n",
    "\n",
    "Um programa orientado a objetos (OO) será composto de diversas instâncias de objetos com tipos diferentes, com diferentes interações.\n",
    "\n",
    "Uma das tarefas mais comuns em um programa OO é percorrer uma coleção contendo vários objetos para realizar algum tipo de manipulação. Há iverentes tipos de coleções que poderiam ser criadas. No código abaixo serão criadas listas não-ordenadas de objetos, utilizando a classe ArrayList.\n",
    "\n",
    "A class **ArrayList** é uma das classes mais utilizadas em Java para manipulação de listas. Qualquer tipo de objeto pode ser incluído na lista. Para incluir objetos específicos, é necessário a aplicação de *parametrização de tipos* (tema para outro Notebook).\n",
    "\n",
    "O código abaixo:\n",
    "- cria 2 objetos do tipo *Aluno*, com seus respectivos atributos;\n",
    "- cria 1 objeto Turma, que contém um atributo *alunos* do tipo ArrayList. \n",
    "- cria uma instância da lista dos alunos.\n",
    "- adiciona os alunos na lista.\n",
    "\n",
    "Cada nova lista num programa orientado objeto deve necessariamente ser instanciada. Isto quer dizer que existirão objetos do tipo lista e cada lista apontará para um conjunto de objetos.\n",
    "\n",
    "Para adicionar os objetos de alunos na lista, é utilizado o método *add*, e uma conversão de tipo (*Cast*) para *Aluno*.\n",
    "\n",
    "O laço irá percorrer os elementos da lista utilizando um *iterador*. Um iterador é um padrão frequentemente utilizada para percorrer listas. É necessário realizar um *Cast* ao receber cada objeto na variável *a*.\n",
    "\n",
    "O laço irá calcular e imprimir a média da idade dos alunos."
   ]
  },
  {
   "cell_type": "code",
   "execution_count": 1,
   "metadata": {},
   "outputs": [
    {
     "name": "stdout",
     "output_type": "stream",
     "text": [
      "22.0\n"
     ]
    }
   ],
   "source": [
    "import java.time.LocalDate;\n",
    "\n",
    "class Aluno {\n",
    "    String nome;\n",
    "    int anoNascimento;\n",
    "}\n",
    "\n",
    "class Turma {\n",
    "    String nome;\n",
    "    ArrayList alunos;\n",
    "}\n",
    "\n",
    "class Programa {\n",
    "    public static void main (){\n",
    "        Aluno aluno1 = new Aluno();        \n",
    "        aluno1.nome = \"Maria\";\n",
    "        aluno1.anoNascimento = 2001;\n",
    "        \n",
    "        Aluno aluno2 = new Aluno();\n",
    "        aluno2.nome = \"José\";\n",
    "        aluno2.anoNascimento = 1995;\n",
    "        \n",
    "        Turma turma = new Turma ();\n",
    "        turma.nome = \"Paradigmas de programação\";\n",
    "        turma.alunos = new ArrayList();\n",
    "        turma.alunos.add((Aluno)aluno1);\n",
    "        turma.alunos.add((Aluno)aluno2);\n",
    "        \n",
    "        double total = 0;\n",
    "        for (Iterator it = turma.alunos.iterator(); it.hasNext();) {\n",
    "            Aluno a = (Aluno)it.next();\n",
    "            total = total + LocalDate.now().getYear() - a.anoNascimento;\n",
    "        }        \n",
    "        \n",
    "        System.out.println(total / turma.alunos.size());\n",
    "        \n",
    "    }\n",
    "}\n",
    "\n",
    "Programa.main();"
   ]
  },
  {
   "cell_type": "markdown",
   "metadata": {},
   "source": [
    "O código abaixo tem o mesmo objetivo do código anterior, mas tem 2 alterações principais:\n",
    "- um objeto Turma e a lista dos alunos é instanciado antes dos alunos;\n",
    "- utilização de estrutura de laço simplificada.\n",
    "\n",
    "Os alunos são incluídos na lista de alunos de duas formas:\n",
    "- chamada do construtor diretamente como parâmetro do *add*, e acesso do objeto utilizando seu índice;\n",
    "- criação do objeto e atribuição para uma variável, que é em seguida adicionada na lista.\n",
    "\n",
    "Um método de inclusão não pode ser considerado melhor que o outro, a escolha da sua utilização dependerá do contexto da aplicação.\n",
    "\n",
    "A linguagem Java foi extendida para facilitar o percurso em listas de objetos, com a criação do *enhanced for* ou *for-each*. Este *for* é específico para percurso de listas, mas é muito mais simples e conciso de escrever. No código abaixo ainda é utilizado um *Cast*, mas o tipo poderia ser parametrizado.\n",
    "\n"
   ]
  },
  {
   "cell_type": "code",
   "execution_count": 2,
   "metadata": {},
   "outputs": [
    {
     "name": "stdout",
     "output_type": "stream",
     "text": [
      "22.0\n"
     ]
    }
   ],
   "source": [
    "\n",
    "import java.time.LocalDate;\n",
    "\n",
    "class Aluno {\n",
    "    String nome;\n",
    "    int anoNascimento;\n",
    "}\n",
    "\n",
    "class Turma {\n",
    "    String nome;\n",
    "    ArrayList alunos;\n",
    "}\n",
    "\n",
    "class Programa {\n",
    "    public static void main (){\n",
    "\n",
    "        Turma turma = new Turma ();\n",
    "        turma.nome = \"Paradigmas de programação\";\n",
    "        turma.alunos = new ArrayList();\n",
    "        ArrayList alunos = turma.alunos;\n",
    "        \n",
    "        alunos.add(new Aluno());        \n",
    "        ((Aluno)alunos.get(0)).nome = \"Maria\";\n",
    "        ((Aluno)alunos.get(0)).anoNascimento = 2001;\n",
    "        \n",
    "        Aluno aluno = new Aluno();\n",
    "        aluno.nome = \"José\";\n",
    "        aluno.anoNascimento = 1995;\n",
    "        \n",
    "        turma.alunos.add((Aluno)aluno);\n",
    "        \n",
    "        double total = 0;\n",
    "        for (Object o : turma.alunos) {\n",
    "            total += LocalDate.now().getYear() - ((Aluno)o).anoNascimento;\n",
    "        }         \n",
    "        \n",
    "        System.out.println(total / turma.alunos.size());\n",
    "        \n",
    "    }\n",
    "}\n",
    "\n",
    "Programa.main();\n",
    "\n"
   ]
  },
  {
   "cell_type": "code",
   "execution_count": null,
   "metadata": {},
   "outputs": [],
   "source": []
  }
 ],
 "metadata": {
  "kernelspec": {
   "display_name": "Java",
   "language": "java",
   "name": "java"
  },
  "language_info": {
   "codemirror_mode": "java",
   "file_extension": ".jshell",
   "mimetype": "text/x-java-source",
   "name": "Java",
   "pygments_lexer": "java",
   "version": "11.0.3+7"
  }
 },
 "nbformat": 4,
 "nbformat_minor": 2
}
