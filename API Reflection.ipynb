{
 "cells": [
  {
   "cell_type": "markdown",
   "metadata": {},
   "source": [
    "## API de Reflexão\n",
    "\n",
    "A API de reflexão (Reflection API) permite retornar os metadados dos objetos e os objetos em tempo de execução. \n",
    "\n",
    "É possível recuperar o nome de uma classe, seus atributos e métodos, sem uma referência explícita no programa em tempo de compilação. Uma das aplicações comuns de uma API de reflexão é a implementação de um **debugador**. \n",
    "\n",
    "O código abaixo possui alguns exemplos simples da API de reflexão.\n",
    "Este código:\n",
    "- carrega uma classe ArrayList;\n",
    "- retorna todos os atributos;\n",
    "- retorna todos os métodos;\n",
    "- instancia um objeto ArrayList;\n",
    "- retorna o tipo do atributo 'size';\n",
    "- retorna o tipo de retorno do método 'size()';\n",
    "- chama o método size 2 vezes, com tamanho do Array diferentes.\n",
    "\n",
    "\n",
    "Um tutorial com todas as possibilidades está disponível na página [https://docs.oracle.com/javase/tutorial/reflect/index.html](Trail: reflection API)."
   ]
  },
  {
   "cell_type": "code",
   "execution_count": 56,
   "metadata": {},
   "outputs": [
    {
     "name": "stdout",
     "output_type": "stream",
     "text": [
      "java.util.ArrayList\n",
      "serialVersionUID\n",
      "DEFAULT_CAPACITY\n",
      "EMPTY_ELEMENTDATA\n",
      "DEFAULTCAPACITY_EMPTY_ELEMENTDATA\n",
      "elementData\n",
      "size\n",
      "MAX_ARRAY_SIZE\n",
      "Número de atributos:7\n",
      "\n",
      "Número de métodos:43\n",
      "\n",
      "Tipo do atributo size: int\n",
      "tipo de retorno do método size: int\n",
      "tamanho da lista, chamando o método size: 0\n",
      "tamanho da lista, chamando o método size: 1\n"
     ]
    }
   ],
   "source": [
    "import java.lang.reflect.*;\n",
    "\n",
    "class Programa {\n",
    "\n",
    "    \n",
    "    public static void main () throws Exception {\n",
    "        Class c = Class.forName(\"java.util.ArrayList\");\n",
    "        System.out.println(c.getName());\n",
    "        \n",
    "        int i = 0;\n",
    "        for (Field f : c.getDeclaredFields()){\n",
    "            System.out.println(f.getName());\n",
    "            i++;            \n",
    "        }\n",
    "        System.out.println(\"Número de atributos:\"+i+\"\\n\");\n",
    "        i=0;\n",
    "        for (Method m : c.getMethods()){\n",
    "            //System.out.println(m.getName());\n",
    "            i++;\n",
    "        }\n",
    "        System.out.println(\"Número de métodos:\"+i+\"\\n\");        \n",
    "        \n",
    "        \n",
    "        ArrayList lista = (ArrayList)c.newInstance();\n",
    "        c.getDeclaredField(\"size\").setAccessible(true);\n",
    "        System.out.println(\"Tipo do atributo size: \"+c.getDeclaredField(\"size\").getType());\n",
    "        \n",
    "        Method m = c.getMethod(\"size\",new Class[]{});\n",
    "        \n",
    "        System.out.println(\"tipo de retorno do método size: \"+m.getReturnType());\n",
    "        \n",
    "        System.out.println(\"tamanho da lista, chamando o método size: \"+m.invoke(lista,new Object[]{}));\n",
    "        \n",
    "        lista.add(25);\n",
    "        \n",
    "        System.out.println(\"tamanho da lista, chamando o método size: \"+m.invoke(lista,new Object[]{}));\n",
    "        \n",
    "        \n",
    "    }\n",
    "}\n",
    "\n",
    "Programa.main();\n"
   ]
  },
  {
   "cell_type": "code",
   "execution_count": null,
   "metadata": {},
   "outputs": [],
   "source": []
  },
  {
   "cell_type": "code",
   "execution_count": null,
   "metadata": {},
   "outputs": [],
   "source": []
  },
  {
   "cell_type": "code",
   "execution_count": null,
   "metadata": {},
   "outputs": [],
   "source": []
  }
 ],
 "metadata": {
  "kernelspec": {
   "display_name": "Java",
   "language": "java",
   "name": "java"
  },
  "language_info": {
   "codemirror_mode": "java",
   "file_extension": ".jshell",
   "mimetype": "text/x-java-source",
   "name": "Java",
   "pygments_lexer": "java",
   "version": "11.0.3+7"
  }
 },
 "nbformat": 4,
 "nbformat_minor": 2
}
